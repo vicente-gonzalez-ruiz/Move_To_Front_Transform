{
 "cells": [
  {
   "cell_type": "markdown",
   "metadata": {
    "slideshow": {
     "slide_type": "slide"
    }
   },
   "source": [
    "# MTF (Move To Front) transform\n",
    "\n",
    "* Performs a change in the representation of the symbols of a sequence, where\n",
    "  those symbols that have a high probability of occurrency are\n",
    "  \"moved\" in the source alphabet towards decreasing positions. Therefore, MTFT inputs $N$ symbols and output $N$ symbols.\n",
    "\n",
    "* The output sequence has a probability density function which follows an exponential\n",
    "  distribution with a slope $\\lambda$:\n",
    "  \n",
    "  \\begin{equation}\n",
    "    f(x) = \\left\\{\n",
    "      \\begin{array}{ll}\n",
    "        \\lambda e^{-\\lambda x} & \\mbox{if $x \\geq 0$};\\\\\n",
    "        0 & \\mbox{if $x < 0$}.\n",
    "      \\end{array} \\right.\n",
    "  \\end{equation}\n",
    "  \n",
    "  <img src=\"data/exponential.png\" width=\"600\">\n",
    "  where $\\lambda$ depends on the probability of ocurrence of the input symbols."
   ]
  },
  {
   "cell_type": "markdown",
   "metadata": {
    "slideshow": {
     "slide_type": "subslide"
    }
   },
   "source": [
    "### Forward transform\n",
    "\n",
    "1. Create a list $L$ with the symbols of the source alphabet,\n",
    "  where $$L[s]\\leftarrow s; 0\\le s\\le r.$$\n",
    "2. While the input is not exhausted:\n",
    "    1. $s\\leftarrow$ next input symbol.\n",
    "    2. $c\\leftarrow$ position of $s$ in $L$ ($L[c]=s$).\n",
    "    3. Output $\\leftarrow c$.\n",
    "    4. Move $s$ to the front of $L$."
   ]
  },
  {
   "cell_type": "markdown",
   "metadata": {
    "slideshow": {
     "slide_type": "subslide"
    }
   },
   "source": [
    "### Example\n",
    "\n",
    "<img src=\"data/MTF_example.png\" width=\"250\">"
   ]
  },
  {
   "cell_type": "markdown",
   "metadata": {
    "slideshow": {
     "slide_type": "subslide"
    }
   },
   "source": [
    "### Inverse transform\n",
    "\n",
    "1. The step 1 of the forward transform.\n",
    "2. While the input is not exausted:\n",
    "    1. $c\\leftarrow$ next input code.\n",
    "    2. $s\\leftarrow L[c]$.\n",
    "    3.  Output $s$.\n",
    "    4. The step 2.C of the forward transform."
   ]
  },
  {
   "cell_type": "markdown",
   "metadata": {
    "slideshow": {
     "slide_type": "subslide"
    }
   },
   "source": [
    "### Example\n",
    "TO-DO"
   ]
  },
  {
   "cell_type": "markdown",
   "metadata": {
    "slideshow": {
     "slide_type": "subslide"
    }
   },
   "source": [
    "### Lab\n",
    "TO-DO"
   ]
  }
 ],
 "metadata": {
  "celltoolbar": "Slideshow",
  "kernelspec": {
   "display_name": "Python 3",
   "language": "python",
   "name": "python3"
  },
  "language_info": {
   "codemirror_mode": {
    "name": "ipython",
    "version": 3
   },
   "file_extension": ".py",
   "mimetype": "text/x-python",
   "name": "python",
   "nbconvert_exporter": "python",
   "pygments_lexer": "ipython3",
   "version": "3.6.4"
  }
 },
 "nbformat": 4,
 "nbformat_minor": 1
}
